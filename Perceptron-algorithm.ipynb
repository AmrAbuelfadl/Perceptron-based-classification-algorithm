{
 "cells": [
  {
   "cell_type": "code",
   "execution_count": 1,
   "metadata": {},
   "outputs": [],
   "source": [
    "import numpy as np\n",
    "import matplotlib.pyplot as plt"
   ]
  },
  {
   "cell_type": "code",
   "execution_count": 2,
   "metadata": {},
   "outputs": [],
   "source": [
    "Learning_rates_array = [1, 10**-1, 10**-2, 10**-3, 10**-4, 10**-5, 10**-6, 10**-7, 10**-8, 10**-9]\n",
    "classifiers_array = np.zeros((100,785,1))\n",
    "for i in range(0,100):\n",
    "    classifiers_array[i][0][0] = 1"
   ]
  },
  {
   "cell_type": "code",
   "execution_count": 3,
   "metadata": {},
   "outputs": [
    {
     "name": "stdout",
     "output_type": "stream",
     "text": [
      "done\n"
     ]
    },
    {
     "data": {
      "text/plain": [
       "(785, 1)"
      ]
     },
     "execution_count": 3,
     "metadata": {},
     "output_type": "execute_result"
    }
   ],
   "source": [
    "## READING TRAINING PHASE IMAGES\n",
    "x = np.zeros((2400, 785,1))\n",
    "for i in range(1, 2401):\n",
    "    image_dir = f\"/Users/amrabuelfadl/Desktop/ML/Assignment 2_30913/Train/{i}.jpg\" #Directory should be changed\n",
    "    image = plt.imread(image_dir)\n",
    "    inputPixels = np.array(image)\n",
    "    image_width = 0\n",
    "    image_height = 0\n",
    "    x[i-1][784] = 1\n",
    "    for j in range(784):\n",
    "        if image_width == 28:\n",
    "            image_width = 0\n",
    "            image_height += 1\n",
    "        x[i-1][j] = inputPixels[image_height][image_width]\n",
    "        image_width += 1\n",
    "    x[i-1] = np.reshape(x[i-1],(785,1))\n",
    "print(\"done\")   \n",
    "x[0].shape"
   ]
  },
  {
   "cell_type": "code",
   "execution_count": 4,
   "metadata": {},
   "outputs": [],
   "source": [
    "t = np.ones((2400, 1))\n",
    "t[0:240] = 0\n",
    "t[240:480] = 1\n",
    "t[480:720] = 2\n",
    "t[720:960] = 3\n",
    "t[960:1200] = 4\n",
    "t[1200:1440] = 5\n",
    "t[1440:1680] = 6\n",
    "t[1680:1920] = 7\n",
    "t[1920:2160] = 8\n",
    "t[2160:] = 9"
   ]
  },
  {
   "cell_type": "code",
   "execution_count": 5,
   "metadata": {},
   "outputs": [],
   "source": [
    "## TRAINING PHASE\n",
    "\n",
    "idx = -1\n",
    "for lRate in Learning_rates_array:\n",
    "    idx += 1\n",
    "    for classifier in range(idx*10 , idx*10+10):\n",
    "        array_of_t = np.ones((2400,1))\n",
    "        labels = np.negative(array_of_t)\n",
    "        labels[240 * (classifier % 10) : 240 + (240 * (classifier % 10))] = 1\n",
    "        for iteration in range(500):\n",
    "            for image in range(x.shape[0]):\n",
    "                p = np.dot(classifiers_array[classifier].flatten(), x[image])\n",
    "                if p >= 0:\n",
    "                    p = 1\n",
    "                else:\n",
    "                    p = -1\n",
    "\n",
    "                if p != labels[image]: \n",
    "                    classifiers_array[classifier] += lRate * x[image] * labels[image]                  \n",
    "        labels[240 * (classifier % 10) : 240 + (240 * (classifier % 10))] = -1"
   ]
  },
  {
   "cell_type": "code",
   "execution_count": 6,
   "metadata": {},
   "outputs": [],
   "source": [
    "## READING TEST IMAGES\n",
    "\n",
    "x_Test = np.zeros((200, 785,1))\n",
    "for i in range(1, 201):\n",
    "    image_dir = f\"/Users/amrabuelfadl/Desktop/ML/Assignment 2_30913/Test/{i}.jpg\" #Directory should be changed\n",
    "    image = plt.imread(image_dir)\n",
    "    inputPixels = np.array(image)\n",
    "    image_width = 0\n",
    "    image_height = 0\n",
    "    x_Test[i-1][784] = 1\n",
    "    for j in range(784):\n",
    "        if image_width == 28:\n",
    "            image_width = 0\n",
    "            image_height += 1\n",
    "        x_Test[i-1][j] = inputPixels[image_height][image_width]\n",
    "        image_width += 1\n",
    "    x_Test[i-1] = np.reshape(x_Test[i-1],(785,1))\n",
    "    "
   ]
  },
  {
   "cell_type": "code",
   "execution_count": 7,
   "metadata": {},
   "outputs": [],
   "source": [
    "t_test = np.ones((200, 1))\n",
    "t_test[0:20] = 0\n",
    "t_test[20:40] = 1\n",
    "t_test[40:60] = 2\n",
    "t_test[60:80] = 3\n",
    "t_test[80:100] = 4\n",
    "t_test[100:120] = 5\n",
    "t_test[120:140] = 6\n",
    "t_test[140:160] = 7\n",
    "t_test[160:180] = 8\n",
    "t_test[180:] = 9"
   ]
  },
  {
   "cell_type": "code",
   "execution_count": 8,
   "metadata": {},
   "outputs": [
    {
     "name": "stdout",
     "output_type": "stream",
     "text": [
      "84.5\n",
      "84.5\n",
      "84.5\n",
      "83.5\n",
      "84.0\n",
      "83.0\n",
      "83.5\n",
      "83.5\n",
      "83.0\n",
      "84.0\n"
     ]
    }
   ],
   "source": [
    "## TEST PHASE\n",
    "\n",
    "output_Learningrate_1 = np.zeros((10, 10), dtype = int)\n",
    "output_Learningrate_2 = np.zeros((10, 10), dtype = int)\n",
    "output_Learningrate_3 = np.zeros((10, 10), dtype = int)\n",
    "output_Learningrate_4 = np.zeros((10, 10), dtype = int)\n",
    "output_Learningrate_5 = np.zeros((10, 10), dtype = int)\n",
    "output_Learningrate_6 = np.zeros((10, 10), dtype = int)\n",
    "output_Learningrate_7 = np.zeros((10, 10), dtype = int)\n",
    "output_Learningrate_8 = np.zeros((10, 10), dtype = int)\n",
    "output_Learningrate_9 = np.zeros((10, 10), dtype = int)\n",
    "output_Learningrate_10 = np.zeros((10, 10), dtype = int)\n",
    "cnt = 0\n",
    "cnt1 = 0\n",
    "cnt2 = 0\n",
    "cnt3 = 0\n",
    "cnt4 = 0\n",
    "cnt5 = 0\n",
    "cnt6 = 0\n",
    "cnt7 = 0\n",
    "cnt8 = 0\n",
    "cnt9 = 0\n",
    "cnt10 = 0\n",
    "\n",
    "counter = 0\n",
    "for i in range(1,len(x_Test)+1):\n",
    "    max = -np.inf\n",
    "    label = -1\n",
    "    for lr in range(10):\n",
    "        for j in range(10*lr,10*lr + 10):\n",
    "            p = np.dot(classifiers_array[j].flatten(), x_Test[i-1])\n",
    "            if p > max:\n",
    "                max = p\n",
    "                label = j % 10\n",
    "\n",
    "    ####################### checking for accuracing\n",
    "        if lr == 0 and label == t_test[i-1]: \n",
    "            cnt1 += 1\n",
    "        \n",
    "        if lr == 1 and label == t_test[i-1]: \n",
    "            cnt2 += 1\n",
    "            \n",
    "        if lr == 2 and label == t_test[i-1]: \n",
    "            cnt3 += 1\n",
    "            \n",
    "        if lr == 3 and label == t_test[i-1]: \n",
    "            cnt4 += 1\n",
    "            \n",
    "        if lr == 4 and label == t_test[i-1]: \n",
    "            cnt5 += 1\n",
    "            \n",
    "        if lr == 5 and label == t_test[i-1]: \n",
    "            cnt6 += 1\n",
    "             \n",
    "        if lr == 6 and label == t_test[i-1]: \n",
    "            cnt7 += 1\n",
    "            \n",
    "        if lr == 7 and label == t_test[i-1]: \n",
    "            cnt8 += 1\n",
    "            \n",
    "        if lr == 8 and label == t_test[i-1]: \n",
    "            cnt9 += 1\n",
    "            \n",
    "        if lr == 9 and label == t_test[i-1]: \n",
    "            cnt10 += 1\n",
    "        ######################## confusion matrix for each learning rate\n",
    "        if lr == 0 : \n",
    "            output_Learningrate_1[counter][label] += 1        # Confusion matrix for \n",
    "           \n",
    "        \n",
    "        if lr == 1 : \n",
    "            output_Learningrate_2[counter][label] += 1\n",
    "            \n",
    "            \n",
    "        if lr == 2 : \n",
    "            output_Learningrate_3[counter][label] += 1  \n",
    "            \n",
    "            \n",
    "        if lr == 3 : \n",
    "            output_Learningrate_4[counter][label] += 1\n",
    "            \n",
    "            \n",
    "        if lr == 4 : \n",
    "            output_Learningrate_5[counter][label] += 1  \n",
    "            \n",
    "            \n",
    "        if lr == 5: \n",
    "            output_Learningrate_6[counter][label] += 1\n",
    "            \n",
    "             \n",
    "        if lr == 6 : \n",
    "            output_Learningrate_7[counter][label] += 1  \n",
    "            \n",
    "            \n",
    "        if lr == 7 : \n",
    "            output_Learningrate_8[counter][label] += 1  \n",
    "            \n",
    "            \n",
    "        if lr == 8 : \n",
    "            output_Learningrate_9[counter][label] += 1\n",
    "            \n",
    "            \n",
    "        if lr == 9 : \n",
    "            output_Learningrate_10[counter][label] += 1\n",
    "            \n",
    "            \n",
    "    if (i % 20) == 0:\n",
    "        counter += 1\n",
    "\n",
    "print(cnt1/len(x_Test) * 100)\n",
    "print(cnt2/len(x_Test) * 100)\n",
    "print(cnt3/len(x_Test) * 100)\n",
    "print(cnt4/len(x_Test) * 100)\n",
    "print(cnt5/len(x_Test) * 100)\n",
    "print(cnt6/len(x_Test) * 100)\n",
    "print(cnt7/len(x_Test) * 100)\n",
    "print(cnt8/len(x_Test) * 100)\n",
    "print(cnt9/len(x_Test) * 100)\n",
    "print(cnt10/len(x_Test) * 100)\n",
    "\n"
   ]
  },
  {
   "cell_type": "code",
   "execution_count": 20,
   "metadata": {},
   "outputs": [
    {
     "data": {
      "text/plain": [
       "array([[19,  0,  0,  0,  0,  0,  1,  0,  0,  0],\n",
       "       [ 0, 18,  1,  0,  0,  0,  0,  0,  1,  0],\n",
       "       [ 0,  1, 16,  1,  1,  0,  0,  0,  1,  0],\n",
       "       [ 0,  0,  1, 15,  0,  0,  0,  0,  2,  2],\n",
       "       [ 0,  0,  0,  0, 17,  1,  0,  0,  0,  2],\n",
       "       [ 0,  0,  1,  0,  2, 16,  0,  0,  1,  0],\n",
       "       [ 0,  0,  0,  0,  0,  1, 18,  0,  1,  0],\n",
       "       [ 0,  0,  0,  0,  0,  0,  0, 15,  0,  5],\n",
       "       [ 0,  0,  0,  0,  0,  0,  0,  0, 19,  1],\n",
       "       [ 1,  0,  0,  0,  0,  0,  0,  2,  1, 16]])"
      ]
     },
     "execution_count": 20,
     "metadata": {},
     "output_type": "execute_result"
    }
   ],
   "source": [
    "plt.imsave(f\"/Users/amrabuelfadl/Desktop/Confusion-{Learning_rates_array[0]}.jpg\", output_Learningrate_1, cmap = \"gray\")\n",
    "output_Learningrate_1"
   ]
  },
  {
   "cell_type": "code",
   "execution_count": 21,
   "metadata": {},
   "outputs": [
    {
     "data": {
      "text/plain": [
       "array([[19,  0,  0,  0,  0,  0,  1,  0,  0,  0],\n",
       "       [ 0, 18,  1,  0,  0,  0,  0,  0,  1,  0],\n",
       "       [ 0,  1, 16,  1,  1,  0,  0,  0,  1,  0],\n",
       "       [ 0,  0,  1, 15,  0,  0,  0,  0,  2,  2],\n",
       "       [ 0,  0,  0,  0, 17,  1,  0,  0,  0,  2],\n",
       "       [ 0,  0,  1,  0,  2, 16,  0,  0,  1,  0],\n",
       "       [ 0,  0,  0,  0,  0,  1, 18,  0,  1,  0],\n",
       "       [ 0,  0,  0,  0,  0,  0,  0, 15,  0,  5],\n",
       "       [ 0,  0,  0,  0,  0,  0,  0,  0, 19,  1],\n",
       "       [ 1,  0,  0,  0,  0,  0,  0,  2,  1, 16]])"
      ]
     },
     "execution_count": 21,
     "metadata": {},
     "output_type": "execute_result"
    }
   ],
   "source": [
    "plt.imsave(f\"/Users/amrabuelfadl/Desktop/Confusion-{Learning_rates_array[1]}.jpg\", output_Learningrate_2, cmap = \"gray\")\n",
    "output_Learningrate_2"
   ]
  },
  {
   "cell_type": "code",
   "execution_count": 22,
   "metadata": {},
   "outputs": [
    {
     "data": {
      "text/plain": [
       "array([[19,  0,  0,  0,  0,  0,  1,  0,  0,  0],\n",
       "       [ 0, 18,  1,  0,  0,  0,  0,  0,  1,  0],\n",
       "       [ 0,  1, 16,  1,  1,  0,  0,  0,  1,  0],\n",
       "       [ 0,  0,  1, 15,  0,  0,  0,  0,  2,  2],\n",
       "       [ 0,  0,  0,  0, 17,  1,  0,  0,  0,  2],\n",
       "       [ 0,  0,  1,  0,  2, 16,  0,  0,  1,  0],\n",
       "       [ 0,  0,  0,  0,  0,  1, 18,  0,  1,  0],\n",
       "       [ 0,  0,  0,  0,  0,  0,  0, 15,  0,  5],\n",
       "       [ 0,  0,  0,  0,  0,  0,  0,  0, 19,  1],\n",
       "       [ 1,  0,  0,  0,  0,  0,  0,  2,  1, 16]])"
      ]
     },
     "execution_count": 22,
     "metadata": {},
     "output_type": "execute_result"
    }
   ],
   "source": [
    "plt.imsave(f\"/Users/amrabuelfadl/Desktop/Confusion-{Learning_rates_array[2]}.jpg\", output_Learningrate_3, cmap = \"gray\")\n",
    "output_Learningrate_3"
   ]
  },
  {
   "cell_type": "code",
   "execution_count": 23,
   "metadata": {},
   "outputs": [
    {
     "data": {
      "text/plain": [
       "array([[19,  0,  0,  0,  0,  0,  1,  0,  0,  0],\n",
       "       [ 0, 18,  1,  0,  0,  0,  0,  0,  1,  0],\n",
       "       [ 0,  1, 16,  1,  1,  0,  0,  0,  1,  0],\n",
       "       [ 0,  0,  1, 13,  0,  1,  0,  0,  3,  2],\n",
       "       [ 0,  0,  0,  0, 17,  1,  0,  0,  0,  2],\n",
       "       [ 0,  0,  1,  0,  2, 16,  0,  0,  1,  0],\n",
       "       [ 0,  0,  0,  0,  0,  1, 18,  0,  1,  0],\n",
       "       [ 0,  0,  0,  0,  0,  0,  0, 15,  0,  5],\n",
       "       [ 0,  0,  0,  0,  0,  0,  0,  0, 19,  1],\n",
       "       [ 1,  0,  0,  0,  0,  0,  0,  2,  1, 16]])"
      ]
     },
     "execution_count": 23,
     "metadata": {},
     "output_type": "execute_result"
    }
   ],
   "source": [
    "plt.imsave(f\"/Users/amrabuelfadl/Desktop/Confusion-{Learning_rates_array[3]}.jpg\", output_Learningrate_4, cmap = \"gray\")\n",
    "output_Learningrate_4"
   ]
  },
  {
   "cell_type": "code",
   "execution_count": 24,
   "metadata": {},
   "outputs": [
    {
     "data": {
      "text/plain": [
       "array([[19,  0,  0,  0,  0,  0,  1,  0,  0,  0],\n",
       "       [ 0, 18,  1,  0,  0,  0,  0,  0,  1,  0],\n",
       "       [ 0,  1, 16,  1,  1,  0,  0,  0,  1,  0],\n",
       "       [ 0,  0,  1, 14,  0,  1,  0,  0,  3,  1],\n",
       "       [ 0,  0,  0,  0, 17,  1,  0,  0,  1,  1],\n",
       "       [ 0,  0,  1,  0,  2, 16,  0,  0,  1,  0],\n",
       "       [ 0,  0,  0,  0,  0,  1, 18,  0,  1,  0],\n",
       "       [ 0,  0,  0,  0,  0,  0,  0, 15,  0,  5],\n",
       "       [ 0,  0,  0,  0,  0,  0,  0,  0, 19,  1],\n",
       "       [ 1,  0,  0,  0,  0,  0,  0,  2,  1, 16]])"
      ]
     },
     "execution_count": 24,
     "metadata": {},
     "output_type": "execute_result"
    }
   ],
   "source": [
    "plt.imsave(f\"/Users/amrabuelfadl/Desktop/Confusion-{Learning_rates_array[4]}.jpg\", output_Learningrate_5, cmap = \"gray\")\n",
    "output_Learningrate_5"
   ]
  },
  {
   "cell_type": "code",
   "execution_count": 25,
   "metadata": {},
   "outputs": [
    {
     "data": {
      "text/plain": [
       "array([[19,  0,  0,  0,  0,  0,  1,  0,  0,  0],\n",
       "       [ 0, 18,  1,  0,  0,  0,  0,  0,  1,  0],\n",
       "       [ 0,  1, 16,  1,  1,  0,  0,  0,  1,  0],\n",
       "       [ 1,  0,  1, 14,  0,  0,  0,  0,  2,  2],\n",
       "       [ 0,  1,  0,  0, 16,  1,  0,  0,  0,  2],\n",
       "       [ 0,  0,  1,  0,  2, 16,  0,  0,  1,  0],\n",
       "       [ 0,  0,  0,  0,  0,  1, 18,  0,  1,  0],\n",
       "       [ 0,  0,  0,  0,  0,  0,  0, 14,  0,  6],\n",
       "       [ 0,  0,  0,  0,  0,  0,  0,  0, 19,  1],\n",
       "       [ 1,  0,  0,  0,  0,  0,  0,  2,  1, 16]])"
      ]
     },
     "execution_count": 25,
     "metadata": {},
     "output_type": "execute_result"
    }
   ],
   "source": [
    "plt.imsave(f\"/Users/amrabuelfadl/Desktop/Confusion-{Learning_rates_array[5]}.jpg\", output_Learningrate_6, cmap = \"gray\")\n",
    "output_Learningrate_6 "
   ]
  },
  {
   "cell_type": "code",
   "execution_count": 26,
   "metadata": {},
   "outputs": [
    {
     "data": {
      "text/plain": [
       "array([[19,  0,  0,  0,  0,  0,  1,  0,  0,  0],\n",
       "       [ 0, 18,  1,  0,  0,  0,  0,  0,  1,  0],\n",
       "       [ 0,  1, 16,  1,  1,  0,  0,  0,  1,  0],\n",
       "       [ 0,  0,  1, 15,  0,  1,  0,  0,  2,  1],\n",
       "       [ 0,  1,  0,  0, 16,  1,  0,  0,  0,  2],\n",
       "       [ 0,  0,  1,  0,  2, 16,  0,  0,  1,  0],\n",
       "       [ 0,  0,  0,  0,  0,  1, 18,  0,  1,  0],\n",
       "       [ 0,  0,  0,  0,  0,  0,  0, 14,  0,  6],\n",
       "       [ 0,  0,  0,  0,  0,  0,  0,  0, 19,  1],\n",
       "       [ 0,  0,  1,  0,  0,  0,  0,  2,  1, 16]])"
      ]
     },
     "execution_count": 26,
     "metadata": {},
     "output_type": "execute_result"
    }
   ],
   "source": [
    "plt.imsave(f\"/Users/amrabuelfadl/Desktop/Confusion-{Learning_rates_array[6]}.jpg\", output_Learningrate_7, cmap = \"gray\")\n",
    "output_Learningrate_7 "
   ]
  },
  {
   "cell_type": "code",
   "execution_count": 27,
   "metadata": {},
   "outputs": [
    {
     "data": {
      "text/plain": [
       "array([[19,  0,  0,  0,  0,  0,  1,  0,  0,  0],\n",
       "       [ 0, 18,  1,  0,  0,  0,  0,  0,  1,  0],\n",
       "       [ 0,  1, 16,  1,  1,  0,  0,  0,  1,  0],\n",
       "       [ 0,  0,  1, 15,  0,  0,  0,  0,  3,  1],\n",
       "       [ 0,  0,  0,  0, 16,  2,  0,  0,  0,  2],\n",
       "       [ 0,  0,  1,  0,  2, 16,  0,  0,  1,  0],\n",
       "       [ 0,  0,  0,  0,  0,  1, 18,  0,  1,  0],\n",
       "       [ 0,  0,  0,  0,  0,  0,  0, 14,  0,  6],\n",
       "       [ 0,  0,  0,  0,  0,  0,  0,  0, 19,  1],\n",
       "       [ 0,  0,  1,  0,  0,  0,  0,  2,  1, 16]])"
      ]
     },
     "execution_count": 27,
     "metadata": {},
     "output_type": "execute_result"
    }
   ],
   "source": [
    "plt.imsave(f\"/Users/amrabuelfadl/Desktop/Confusion-{Learning_rates_array[7]}.jpg\", output_Learningrate_8, cmap = \"gray\")\n",
    "output_Learningrate_8"
   ]
  },
  {
   "cell_type": "code",
   "execution_count": 28,
   "metadata": {},
   "outputs": [
    {
     "data": {
      "text/plain": [
       "array([[19,  0,  0,  0,  0,  0,  1,  0,  0,  0],\n",
       "       [ 0, 18,  1,  0,  0,  0,  0,  0,  1,  0],\n",
       "       [ 0,  1, 16,  1,  1,  0,  0,  0,  1,  0],\n",
       "       [ 0,  0,  1, 15,  0,  0,  0,  0,  3,  1],\n",
       "       [ 0,  0,  0,  0, 16,  2,  0,  0,  0,  2],\n",
       "       [ 0,  0,  1,  0,  2, 16,  0,  0,  1,  0],\n",
       "       [ 0,  0,  0,  0,  0,  1, 18,  0,  1,  0],\n",
       "       [ 0,  0,  0,  0,  0,  0,  0, 14,  0,  6],\n",
       "       [ 0,  0,  0,  0,  0,  0,  0,  0, 19,  1],\n",
       "       [ 0,  0,  1,  0,  0,  0,  0,  3,  1, 15]])"
      ]
     },
     "execution_count": 28,
     "metadata": {},
     "output_type": "execute_result"
    }
   ],
   "source": [
    "plt.imsave(f\"/Users/amrabuelfadl/Desktop/Confusion-{Learning_rates_array[8]}.jpg\", output_Learningrate_9, cmap = \"gray\")\n",
    "output_Learningrate_9 "
   ]
  },
  {
   "cell_type": "code",
   "execution_count": 29,
   "metadata": {},
   "outputs": [
    {
     "data": {
      "text/plain": [
       "array([[19,  0,  0,  0,  0,  0,  1,  0,  0,  0],\n",
       "       [ 0, 18,  1,  0,  0,  0,  0,  0,  1,  0],\n",
       "       [ 0,  1, 16,  1,  1,  0,  0,  0,  1,  0],\n",
       "       [ 0,  0,  1, 16,  0,  0,  0,  0,  2,  1],\n",
       "       [ 0,  0,  0,  0, 17,  2,  0,  0,  0,  1],\n",
       "       [ 0,  0,  1,  0,  2, 16,  0,  0,  1,  0],\n",
       "       [ 0,  0,  0,  0,  0,  1, 18,  0,  1,  0],\n",
       "       [ 0,  0,  0,  0,  0,  0,  0, 14,  0,  6],\n",
       "       [ 0,  0,  0,  0,  0,  0,  0,  0, 19,  1],\n",
       "       [ 0,  0,  1,  0,  0,  0,  0,  3,  1, 15]])"
      ]
     },
     "execution_count": 29,
     "metadata": {},
     "output_type": "execute_result"
    }
   ],
   "source": [
    "plt.imsave(f\"/Users/amrabuelfadl/Desktop/Confusion-{Learning_rates_array[9]}.jpg\", output_Learningrate_10, cmap = \"gray\")\n",
    "output_Learningrate_10"
   ]
  },
  {
   "cell_type": "code",
   "execution_count": null,
   "metadata": {},
   "outputs": [],
   "source": []
  }
 ],
 "metadata": {
  "kernelspec": {
   "display_name": "Python 3",
   "language": "python",
   "name": "python3"
  },
  "language_info": {
   "codemirror_mode": {
    "name": "ipython",
    "version": 3
   },
   "file_extension": ".py",
   "mimetype": "text/x-python",
   "name": "python",
   "nbconvert_exporter": "python",
   "pygments_lexer": "ipython3",
   "version": "3.7.3"
  }
 },
 "nbformat": 4,
 "nbformat_minor": 2
}
